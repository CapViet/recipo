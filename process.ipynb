{
 "cells": [
  {
   "cell_type": "code",
   "execution_count": 1,
   "metadata": {},
   "outputs": [],
   "source": [
    "import csv\n",
    "import json\n"
   ]
  },
  {
   "cell_type": "code",
   "execution_count": 2,
   "metadata": {},
   "outputs": [],
   "source": [
    "input_file = 'D:\\\\recipo\\\\public\\\\fixed_output_5.csv'  # Replace with your actual input CSV file\n",
    "output_file = 'D:\\\\recipo\\\\public\\\\fixed_output_7.csv'"
   ]
  },
  {
   "cell_type": "code",
   "execution_count": 3,
   "metadata": {},
   "outputs": [],
   "source": [
    "def escape_json(json_str):\n",
    "    try:\n",
    "        # Convert the string to a JSON object and back to a string to ensure it's a valid JSON\n",
    "        json_obj = json.loads(json_str)\n",
    "        return json.dumps(json_obj)  # This will convert to a valid JSON string with proper escaping\n",
    "    except json.JSONDecodeError:\n",
    "        print(f\"Error decoding JSON: {json_str}\")\n",
    "        return json_str  # If JSON is invalid, just return it as is\n"
   ]
  },
  {
   "cell_type": "code",
   "execution_count": 4,
   "metadata": {},
   "outputs": [
    {
     "name": "stdout",
     "output_type": "stream",
     "text": [
      "Processed CSV saved to D:\\recipo\\public\\fixed_output_7.csv\n"
     ]
    }
   ],
   "source": [
    "with open(input_file, 'r', newline='', encoding='utf-8') as infile, \\\n",
    "     open(output_file, 'w', newline='', encoding='utf-8') as outfile:\n",
    "    \n",
    "    # Create a CSV reader and writer\n",
    "    csv_reader = csv.reader(infile)\n",
    "    csv_writer = csv.writer(outfile)\n",
    "    \n",
    "    # Read and write the header (if present)\n",
    "    header = next(csv_reader)\n",
    "    csv_writer.writerow(header)\n",
    "    \n",
    "    # Process each row in the CSV\n",
    "    for row in csv_reader:\n",
    "        # Escape the JSON columns (columns with ingredients and steps)\n",
    "        if row[8]:  # Checking if the ingredients column (index 8) is not empty\n",
    "            row[8] = escape_json(row[8])\n",
    "        if row[9]:  # Checking if the steps column (index 9) is not empty\n",
    "            row[9] = escape_json(row[9])\n",
    "        \n",
    "        # Write the updated row to the output file\n",
    "        csv_writer.writerow(row)\n",
    "\n",
    "print(f\"Processed CSV saved to {output_file}\")"
   ]
  },
  {
   "cell_type": "code",
   "execution_count": 19,
   "metadata": {},
   "outputs": [
    {
     "name": "stdout",
     "output_type": "stream",
     "text": [
      "CSV processing complete! Your file is ready for pgAdmin import: 'cleaned_file.csv'.\n"
     ]
    }
   ],
   "source": [
    "import csv\n",
    "import json\n",
    "\n",
    "# Input and output file paths\n",
    "input_file = \"cleaned_file.csv\"\n",
    "output_file = \"cleaned_file_1.csv\"\n",
    "\n",
    "# Read the CSV and process each row\n",
    "with open(input_file, mode=\"r\", encoding=\"utf-8\") as infile, open(output_file, mode=\"w\", encoding=\"utf-8\", newline=\"\") as outfile:\n",
    "    reader = csv.reader(infile)\n",
    "    writer = csv.writer(outfile, quoting=csv.QUOTE_MINIMAL)  # Ensures correct CSV format\n",
    "\n",
    "    for row in reader:\n",
    "        # Ensure we have enough columns (adjust if necessary)\n",
    "        if len(row) < 10:\n",
    "            continue\n",
    "        try:\n",
    "            # Convert list format into JSON object format\n",
    "            ingredients_list = json.loads(row[-2])  # Parse as list\n",
    "            instructions_list = json.loads(row[-1])  # Parse as list\n",
    "\n",
    "            # Format into the desired JSON structure\n",
    "            ingredients_json = json.dumps(ingredients_list)\n",
    "            instructions_json = json.dumps(instructions_list)\n",
    "\n",
    "            # Replace all occurrences of double quotes within the JSON with escaped quotes\n",
    "            ingredients_json = ingredients_json.replace('\"\"', '\\\\\"')\n",
    "            instructions_json = instructions_json.replace('\"\"', '\\\\\"')\n",
    "\n",
    "            # Write the cleaned row to a new CSV file\n",
    "            row[-2] = ingredients_json\n",
    "            row[-1] = instructions_json\n",
    "\n",
    "        except json.JSONDecodeError:\n",
    "            print(f\"Error parsing JSON in row: {row}\")  # Debugging in case of issues\n",
    "            continue\n",
    "\n",
    "        # Write the cleaned row to a new CSV file\n",
    "        writer.writerow(row)\n",
    "\n",
    "print(\"CSV processing complete! Your file is ready for pgAdmin import: 'cleaned_file.csv'.\")"
   ]
  }
 ],
 "metadata": {
  "kernelspec": {
   "display_name": "Python 3",
   "language": "python",
   "name": "python3"
  },
  "language_info": {
   "codemirror_mode": {
    "name": "ipython",
    "version": 3
   },
   "file_extension": ".py",
   "mimetype": "text/x-python",
   "name": "python",
   "nbconvert_exporter": "python",
   "pygments_lexer": "ipython3",
   "version": "3.13.2"
  }
 },
 "nbformat": 4,
 "nbformat_minor": 2
}
